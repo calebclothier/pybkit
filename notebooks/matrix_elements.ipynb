{
 "cells": [
  {
   "cell_type": "code",
   "execution_count": 2,
   "metadata": {},
   "outputs": [],
   "source": [
    "from pybkit.amo.atom import Yb171\n",
    "\n",
    "from scipy import constants\n",
    "import numpy as np\n",
    "import pandas as pd\n",
    "import matplotlib.pyplot as plt\n",
    "from sympy.physics.wigner import wigner_6j\n",
    "from sympy.physics.quantum.cg import CG"
   ]
  },
  {
   "cell_type": "markdown",
   "metadata": {},
   "source": [
    "## Utility functions"
   ]
  },
  {
   "cell_type": "code",
   "execution_count": 3,
   "metadata": {},
   "outputs": [],
   "source": [
    "def mF_arr(F):\n",
    "    return [F - i for i in range(int(2*F + 1))]\n",
    "\n",
    "def matrix_element_prefactor(F1, mF1, F2, mF2, q):\n",
    "    return (-1)**(F2 - F1 + mF2 - mF1) * np.sqrt((2 * F1 + 1) / (2 * F2 + 1)) * CG(F1, mF1, 1, q, F2, mF2).doit()\n",
    "\n",
    "def J_to_F_rme_prefactor(J1, J2, F1, F2, I=1/2):\n",
    "    return float(wigner_6j(J1, J2, 1, F2, F1, I)) * (-1)**(F2 + J1 + 1 + I) * np.sqrt((2 * F2 + 1) * (2 * J1 + 1))"
   ]
  },
  {
   "cell_type": "markdown",
   "metadata": {},
   "source": [
    "## 6s6p 3P2 --> 6s6d 3D2 "
   ]
  },
  {
   "cell_type": "code",
   "execution_count": 5,
   "metadata": {},
   "outputs": [
    {
     "data": {
      "text/plain": [
       "0.72"
      ]
     },
     "execution_count": 5,
     "metadata": {},
     "output_type": "execute_result"
    }
   ],
   "source": [
    "yb = Yb171(B_field=5)\n",
    "level1 = yb.get_fine_level('6s6p 3P2')\n",
    "level2 = yb.get_fine_level('6s6d 3D2')\n",
    "yb.get_reduced_matrix_element(level1, level2)"
   ]
  },
  {
   "cell_type": "code",
   "execution_count": 7,
   "metadata": {},
   "outputs": [],
   "source": [
    "\"\"\" < J || d || J' > reduced matrix elements \"\"\"\n",
    "# estimate from 3D2 lifetime + branching ratio to 3P1, 3P2\n",
    "omega12 = 2 * np.pi * 654.927 * 1e12\n",
    "omega22 = 2 * np.pi * 603.411 * 1e12\n",
    "gamma = 1 / 24e-9\n",
    "prefactor = 3 * np.pi * constants.epsilon_0 * constants.hbar * constants.c**3\n",
    "dipole_moment_si = constants.physical_constants['Bohr radius'][0] * constants.e\n",
    "rme = np.sqrt(gamma * prefactor / (0.6 * omega12**3 + (0.447**2 * omega22**3)))\n",
    "J_rme12 = rme / dipole_moment_si # 3P1 -> 3D2 r.m.e\n",
    "J_rme22 = J_rme12 * 0.447  # 3P2 -> 3D2 r.m.e.\n",
    "# print(J_rme12)\n",
    "# print(J_rme22)\n",
    "J_rme_df = pd.DataFrame([\n",
    "    {'J1': 1, 'J2': 2, 'rme': J_rme12},\n",
    "    {'J1': 2, 'J2': 2, 'rme': J_rme22},\n",
    "])\n",
    "\n",
    "\"\"\" < F || d || F' > prefactors for reduced matrix elements \"\"\"\n",
    "J_rme = J_rme_df.loc[(J_rme_df['J1'] == 2) & (J_rme_df['J2'] == 2), 'rme'].iloc[0]\n",
    "F_rme_df = pd.DataFrame([\n",
    "    {'F1': 3/2, 'F2': 3/2, 'rme': J_to_F_rme_prefactor(2, 2, 3/2, 3/2) * J_rme},\n",
    "    {'F1': 3/2, 'F2': 5/2, 'rme': J_to_F_rme_prefactor(2, 2, 5/2, 3/2) * J_rme},\n",
    "    {'F1': 5/2, 'F2': 3/2, 'rme': J_to_F_rme_prefactor(2, 2, 3/2, 5/2) * J_rme},\n",
    "    {'F1': 5/2, 'F2': 5/2, 'rme': J_to_F_rme_prefactor(2, 2, 5/2, 5/2) * J_rme}\n",
    "])\n",
    "\n",
    "\"\"\" < F mF | d | F' mF' > prefactors for matrix elements \"\"\"\n",
    "Fs = [3/2, 5/2]\n",
    "matrix_elements = []\n",
    "for F1 in Fs:\n",
    "    for F2 in Fs:\n",
    "        for mF1 in mF_arr(F1):\n",
    "            for mF2 in mF_arr(F2):\n",
    "                for q in [-1, 0, 1]:\n",
    "                    coeff = float(matrix_element_prefactor(F1, mF1, F2, mF2, q))\n",
    "                    F_rme = F_rme_df.loc[(F_rme_df['F1'] == F1) & (F_rme_df['F2'] == F2), 'rme'].iloc[0]\n",
    "                    if coeff != 0:\n",
    "                        matrix_element = {\n",
    "                            'F1': F1,\n",
    "                            'F2': F2,\n",
    "                            'mF1': mF1,\n",
    "                            'mF2': mF2,\n",
    "                            'q': q,\n",
    "                            'coeff': coeff,\n",
    "                            'matrix element': F_rme * coeff}\n",
    "                        # print(F_rme * coeff)\n",
    "                        level1 = yb.get_hyperfine_level(f'6s6p 3P2 F={F1} mF={mF1}')\n",
    "                        level2 = yb.get_hyperfine_level(f'6s6d 3D2 F={F2} mF={mF2}')\n",
    "                        # print(yb.get_matrix_element(level1, level2))\n",
    "                        matrix_elements.append(matrix_element)\n",
    "                        \n",
    "df = pd.DataFrame(matrix_elements)\n",
    "# df"
   ]
  },
  {
   "cell_type": "markdown",
   "metadata": {},
   "source": [
    "## 6s6p 3P0 --> 6s7s 3S1 "
   ]
  },
  {
   "cell_type": "code",
   "execution_count": 12,
   "metadata": {},
   "outputs": [
    {
     "data": {
      "text/html": [
       "<div>\n",
       "<style scoped>\n",
       "    .dataframe tbody tr th:only-of-type {\n",
       "        vertical-align: middle;\n",
       "    }\n",
       "\n",
       "    .dataframe tbody tr th {\n",
       "        vertical-align: top;\n",
       "    }\n",
       "\n",
       "    .dataframe thead th {\n",
       "        text-align: right;\n",
       "    }\n",
       "</style>\n",
       "<table border=\"1\" class=\"dataframe\">\n",
       "  <thead>\n",
       "    <tr style=\"text-align: right;\">\n",
       "      <th></th>\n",
       "      <th>F1</th>\n",
       "      <th>F2</th>\n",
       "      <th>mF1</th>\n",
       "      <th>mF2</th>\n",
       "      <th>q</th>\n",
       "      <th>coeff</th>\n",
       "      <th>matrix element</th>\n",
       "    </tr>\n",
       "  </thead>\n",
       "  <tbody>\n",
       "    <tr>\n",
       "      <th>2</th>\n",
       "      <td>0.5</td>\n",
       "      <td>0.5</td>\n",
       "      <td>-0.5</td>\n",
       "      <td>0.5</td>\n",
       "      <td>1</td>\n",
       "      <td>0.816497</td>\n",
       "      <td>0.933381</td>\n",
       "    </tr>\n",
       "    <tr>\n",
       "      <th>4</th>\n",
       "      <td>0.5</td>\n",
       "      <td>1.5</td>\n",
       "      <td>0.5</td>\n",
       "      <td>1.5</td>\n",
       "      <td>1</td>\n",
       "      <td>0.707107</td>\n",
       "      <td>1.143154</td>\n",
       "    </tr>\n",
       "    <tr>\n",
       "      <th>7</th>\n",
       "      <td>0.5</td>\n",
       "      <td>1.5</td>\n",
       "      <td>-0.5</td>\n",
       "      <td>0.5</td>\n",
       "      <td>1</td>\n",
       "      <td>0.408248</td>\n",
       "      <td>0.660000</td>\n",
       "    </tr>\n",
       "  </tbody>\n",
       "</table>\n",
       "</div>"
      ],
      "text/plain": [
       "    F1   F2  mF1  mF2  q     coeff  matrix element\n",
       "2  0.5  0.5 -0.5  0.5  1  0.816497        0.933381\n",
       "4  0.5  1.5  0.5  1.5  1  0.707107        1.143154\n",
       "7  0.5  1.5 -0.5  0.5  1  0.408248        0.660000"
      ]
     },
     "execution_count": 12,
     "metadata": {},
     "output_type": "execute_result"
    }
   ],
   "source": [
    "\"\"\" < J || d || J' > reduced matrix element \"\"\"\n",
    "J_rme = 1.98  # atomic units, from Porsev et al. 1999\n",
    "\n",
    "\"\"\" < F || d || F' > prefactors for reduced matrix elements \"\"\"\n",
    "F_rme_df = pd.DataFrame([\n",
    "    {'F1': 1/2, 'F2': 1/2, 'rme': J_to_F_rme_prefactor(0, 1, 1/2, 1/2) * J_rme},\n",
    "    {'F1': 1/2, 'F2': 3/2, 'rme': J_to_F_rme_prefactor(0, 1, 1/2, 3/2) * J_rme},\n",
    "])\n",
    "\n",
    "\"\"\" < F mF | d | F' mF' > prefactors for matrix elements \"\"\"\n",
    "F1s = [1/2]\n",
    "F2s = [1/2, 3/2]\n",
    "matrix_elements = []\n",
    "for F1 in F1s:\n",
    "    for F2 in F2s:\n",
    "        for mF1 in mF_arr(F1):\n",
    "            for mF2 in mF_arr(F2):\n",
    "                for q in [-1, 0, 1]:\n",
    "                    coeff = float(matrix_element_prefactor(F1, mF1, F2, mF2, q))\n",
    "                    F_rme = F_rme_df.loc[(F_rme_df['F1'] == F1) & (F_rme_df['F2'] == F2), 'rme'].iloc[0]\n",
    "                    if coeff != 0:\n",
    "                        matrix_element = {\n",
    "                            'F1': F1,\n",
    "                            'F2': F2,\n",
    "                            'mF1': mF1,\n",
    "                            'mF2': mF2,\n",
    "                            'q': q,\n",
    "                            'coeff': coeff,\n",
    "                            'matrix element': F_rme * coeff}\n",
    "                        # print(F_rme * coeff)\n",
    "                        level1 = yb.get_hyperfine_level(f'6s6p 3P0 F={F1} mF={mF1}')\n",
    "                        level2 = yb.get_hyperfine_level(f'6s7s 3S1 F={F2} mF={mF2}')\n",
    "                        # print(yb.get_matrix_element(level1, level2))\n",
    "                        matrix_elements.append(matrix_element)\n",
    "                        \n",
    "df = pd.DataFrame(matrix_elements)\n",
    "df[df['q'] == 1]\n",
    "# df"
   ]
  },
  {
   "cell_type": "markdown",
   "metadata": {},
   "source": [
    "## 6s6p 3P2 --> 6s7s 3S1 "
   ]
  },
  {
   "cell_type": "code",
   "execution_count": 6,
   "metadata": {},
   "outputs": [
    {
     "data": {
      "text/plain": [
       "2.2584286572747874"
      ]
     },
     "execution_count": 6,
     "metadata": {},
     "output_type": "execute_result"
    }
   ],
   "source": [
    "level1 = yb.get_fine_level('6s6p 3P2')\n",
    "level2 = yb.get_fine_level('6s7s 3S1')\n",
    "yb.get_reduced_matrix_element(level1, level2)\n",
    "5.05 / np.sqrt(2 * 2 + 1)"
   ]
  },
  {
   "cell_type": "code",
   "execution_count": 11,
   "metadata": {},
   "outputs": [
    {
     "data": {
      "text/html": [
       "<div>\n",
       "<style scoped>\n",
       "    .dataframe tbody tr th:only-of-type {\n",
       "        vertical-align: middle;\n",
       "    }\n",
       "\n",
       "    .dataframe tbody tr th {\n",
       "        vertical-align: top;\n",
       "    }\n",
       "\n",
       "    .dataframe thead th {\n",
       "        text-align: right;\n",
       "    }\n",
       "</style>\n",
       "<table border=\"1\" class=\"dataframe\">\n",
       "  <thead>\n",
       "    <tr style=\"text-align: right;\">\n",
       "      <th></th>\n",
       "      <th>F1</th>\n",
       "      <th>F2</th>\n",
       "      <th>mF1</th>\n",
       "      <th>mF2</th>\n",
       "      <th>q</th>\n",
       "      <th>coeff</th>\n",
       "      <th>matrix element</th>\n",
       "    </tr>\n",
       "  </thead>\n",
       "  <tbody>\n",
       "    <tr>\n",
       "      <th>0</th>\n",
       "      <td>1.5</td>\n",
       "      <td>0.5</td>\n",
       "      <td>1.5</td>\n",
       "      <td>0.5</td>\n",
       "      <td>-1</td>\n",
       "      <td>1.000000</td>\n",
       "      <td>2.061654</td>\n",
       "    </tr>\n",
       "    <tr>\n",
       "      <th>2</th>\n",
       "      <td>1.5</td>\n",
       "      <td>0.5</td>\n",
       "      <td>0.5</td>\n",
       "      <td>-0.5</td>\n",
       "      <td>-1</td>\n",
       "      <td>0.577350</td>\n",
       "      <td>1.190296</td>\n",
       "    </tr>\n",
       "    <tr>\n",
       "      <th>7</th>\n",
       "      <td>1.5</td>\n",
       "      <td>1.5</td>\n",
       "      <td>1.5</td>\n",
       "      <td>0.5</td>\n",
       "      <td>-1</td>\n",
       "      <td>-0.632456</td>\n",
       "      <td>0.583124</td>\n",
       "    </tr>\n",
       "    <tr>\n",
       "      <th>10</th>\n",
       "      <td>1.5</td>\n",
       "      <td>1.5</td>\n",
       "      <td>0.5</td>\n",
       "      <td>-0.5</td>\n",
       "      <td>-1</td>\n",
       "      <td>-0.730297</td>\n",
       "      <td>0.673333</td>\n",
       "    </tr>\n",
       "    <tr>\n",
       "      <th>13</th>\n",
       "      <td>1.5</td>\n",
       "      <td>1.5</td>\n",
       "      <td>-0.5</td>\n",
       "      <td>-1.5</td>\n",
       "      <td>-1</td>\n",
       "      <td>-0.632456</td>\n",
       "      <td>0.583124</td>\n",
       "    </tr>\n",
       "    <tr>\n",
       "      <th>16</th>\n",
       "      <td>2.5</td>\n",
       "      <td>1.5</td>\n",
       "      <td>2.5</td>\n",
       "      <td>1.5</td>\n",
       "      <td>-1</td>\n",
       "      <td>1.000000</td>\n",
       "      <td>2.258429</td>\n",
       "    </tr>\n",
       "    <tr>\n",
       "      <th>18</th>\n",
       "      <td>2.5</td>\n",
       "      <td>1.5</td>\n",
       "      <td>1.5</td>\n",
       "      <td>0.5</td>\n",
       "      <td>-1</td>\n",
       "      <td>0.774597</td>\n",
       "      <td>1.749371</td>\n",
       "    </tr>\n",
       "    <tr>\n",
       "      <th>21</th>\n",
       "      <td>2.5</td>\n",
       "      <td>1.5</td>\n",
       "      <td>0.5</td>\n",
       "      <td>-0.5</td>\n",
       "      <td>-1</td>\n",
       "      <td>0.547723</td>\n",
       "      <td>1.236992</td>\n",
       "    </tr>\n",
       "    <tr>\n",
       "      <th>24</th>\n",
       "      <td>2.5</td>\n",
       "      <td>1.5</td>\n",
       "      <td>-0.5</td>\n",
       "      <td>-1.5</td>\n",
       "      <td>-1</td>\n",
       "      <td>0.316228</td>\n",
       "      <td>0.714178</td>\n",
       "    </tr>\n",
       "  </tbody>\n",
       "</table>\n",
       "</div>"
      ],
      "text/plain": [
       "     F1   F2  mF1  mF2  q     coeff  matrix element\n",
       "0   1.5  0.5  1.5  0.5 -1  1.000000        2.061654\n",
       "2   1.5  0.5  0.5 -0.5 -1  0.577350        1.190296\n",
       "7   1.5  1.5  1.5  0.5 -1 -0.632456        0.583124\n",
       "10  1.5  1.5  0.5 -0.5 -1 -0.730297        0.673333\n",
       "13  1.5  1.5 -0.5 -1.5 -1 -0.632456        0.583124\n",
       "16  2.5  1.5  2.5  1.5 -1  1.000000        2.258429\n",
       "18  2.5  1.5  1.5  0.5 -1  0.774597        1.749371\n",
       "21  2.5  1.5  0.5 -0.5 -1  0.547723        1.236992\n",
       "24  2.5  1.5 -0.5 -1.5 -1  0.316228        0.714178"
      ]
     },
     "execution_count": 11,
     "metadata": {},
     "output_type": "execute_result"
    }
   ],
   "source": [
    "\"\"\" < J || d || J' > reduced matrix element \"\"\"\n",
    "J_rme = 5.05 / np.sqrt(2 * 2 + 1)  # atomic units, from Porsev et al. 1999\n",
    "\n",
    "\"\"\" < F || d || F' > prefactors for reduced matrix elements \"\"\"\n",
    "F_rme_df = pd.DataFrame([\n",
    "    {'F1': 3/2, 'F2': 1/2, 'rme': J_to_F_rme_prefactor(2, 1, 3/2, 1/2) * J_rme},\n",
    "    {'F1': 3/2, 'F2': 3/2, 'rme': J_to_F_rme_prefactor(2, 1, 3/2, 3/2) * J_rme},\n",
    "    {'F1': 5/2, 'F2': 1/2, 'rme': J_to_F_rme_prefactor(2, 1, 5/2, 1/2) * J_rme},\n",
    "    {'F1': 5/2, 'F2': 3/2, 'rme': J_to_F_rme_prefactor(2, 1, 5/2, 3/2) * J_rme},\n",
    "])\n",
    "\n",
    "\"\"\" < F mF | d | F' mF' > prefactors for matrix elements \"\"\"\n",
    "F1s = [3/2, 5/2]\n",
    "F2s = [1/2, 3/2]\n",
    "matrix_elements = []\n",
    "for F1 in F1s:\n",
    "    for F2 in F2s:\n",
    "        for mF1 in mF_arr(F1):\n",
    "            for mF2 in mF_arr(F2):\n",
    "                for q in [-1, 0, 1]:\n",
    "                    coeff = float(matrix_element_prefactor(F1, mF1, F2, mF2, q))\n",
    "                    F_rme = F_rme_df.loc[(F_rme_df['F1'] == F1) & (F_rme_df['F2'] == F2), 'rme'].iloc[0]\n",
    "                    if coeff != 0:\n",
    "                        matrix_element = {\n",
    "                            'F1': F1,\n",
    "                            'F2': F2,\n",
    "                            'mF1': mF1,\n",
    "                            'mF2': mF2,\n",
    "                            'q': q,\n",
    "                            'coeff': coeff,\n",
    "                            'matrix element': F_rme * coeff}\n",
    "                        # print(F_rme * coeff)\n",
    "                        level1 = yb.get_hyperfine_level(f'6s6p 3P2 F={F1} mF={mF1}')\n",
    "                        level2 = yb.get_hyperfine_level(f'6s7s 3S1 F={F2} mF={mF2}')\n",
    "                        # print(yb.get_matrix_element(level1, level2))\n",
    "                        matrix_elements.append(matrix_element)\n",
    "                        \n",
    "df = pd.DataFrame(matrix_elements)\n",
    "df[df['q'] == -1]"
   ]
  },
  {
   "cell_type": "code",
   "execution_count": null,
   "metadata": {},
   "outputs": [],
   "source": [
    "1.749 / 2.258"
   ]
  },
  {
   "cell_type": "code",
   "execution_count": null,
   "metadata": {},
   "outputs": [],
   "source": [
    "np.sqrt(3/5)"
   ]
  },
  {
   "cell_type": "code",
   "execution_count": null,
   "metadata": {},
   "outputs": [],
   "source": []
  },
  {
   "cell_type": "code",
   "execution_count": null,
   "metadata": {},
   "outputs": [],
   "source": [
    "def calculate_E_field(power, beam_waist):\n",
    "    intensity = 2 * power / (np.pi * beam_waist**2)\n",
    "    E_field = np.sqrt(2 * intensity / (constants.c * constants.epsilon_0))\n",
    "    return E_field\n",
    "\n",
    "def calculate_rabi_frequency(dipole_matrix_element, E_field):\n",
    "    return np.abs(dipole_matrix_element * E_field / constants.hbar)"
   ]
  },
  {
   "cell_type": "code",
   "execution_count": null,
   "metadata": {},
   "outputs": [],
   "source": [
    "yb = Yb171(B_field=5e-4)\n",
    "dipole_moment_si = constants.physical_constants['Bohr radius'][0] * constants.e\n",
    "dipole_matrix_element = yb.get_reduced_matrix_element('6s6p 3P2', '6s6d 3D2') * dipole_moment_si\n",
    "print(f\"{dipole_matrix_element = }\")"
   ]
  },
  {
   "cell_type": "code",
   "execution_count": null,
   "metadata": {},
   "outputs": [],
   "source": [
    "power = 1e-3  # laser power [watts]\n",
    "beam_waist = 500e-9  # beam waist [meters]\n",
    "\n",
    "E_field = calculate_E_field(power, beam_waist)\n",
    "rabi_freq = calculate_rabi_frequency(dipole_matrix_element, E_field)\n",
    "print(1e-6 * rabi_freq / (2 * np.pi))"
   ]
  },
  {
   "cell_type": "code",
   "execution_count": null,
   "metadata": {},
   "outputs": [],
   "source": [
    "power_649 = 100e-3  # laser power [watts]\n",
    "beam_waist_649 = 500e-6  # beam waist [meters]\n",
    "dipole_moment_si = constants.physical_constants['Bohr radius'][0] * constants.e\n",
    "dipole_matrix_element_649 = 1.143154 * dipole_moment_si\n",
    "E_field_649 = calculate_E_field(power_649, beam_waist_649)\n",
    "rabi_freq_649 = calculate_rabi_frequency(dipole_matrix_element_649, E_field_649)\n",
    "print(dipole_matrix_element_649 * np.sqrt(4 * 1e-3 / (np.pi * beam_waist_649**2 * constants.c * constants.epsilon_0)) / constants.hbar / 2 / np.pi / 1e6)\n",
    "\n",
    "power_770 = 100e-3  # laser power [watts]\n",
    "beam_waist_770 = 500e-6  # beam waist [meters]\n",
    "dipole_moment_si = constants.physical_constants['Bohr radius'][0] * constants.e\n",
    "dipole_matrix_element_770 = 2.258429 * dipole_moment_si\n",
    "E_field_770 = calculate_E_field(power_770, beam_waist_770)\n",
    "rabi_freq_770 = calculate_rabi_frequency(dipole_matrix_element_770, E_field_770)\n",
    "print(dipole_matrix_element_770 * np.sqrt(4 * 1e-3 / (np.pi * beam_waist_770**2 * constants.c * constants.epsilon_0)) / constants.hbar / 2 / np.pi / 1e6)\n",
    "\n",
    "\n",
    "print(rabi_freq_649 / (2 * np.pi) / 1e6)\n",
    "print(rabi_freq_770 / (2 * np.pi) / 1e6)\n",
    "\n",
    "raman_detuning = 2 * np.pi * 50e9\n",
    "\n",
    "print((rabi_freq_649 / raman_detuning)**2)\n",
    "print((rabi_freq_770 / raman_detuning)**2)\n",
    "\n",
    "raman_rabi_freq = rabi_freq_649 * rabi_freq_770 / (2 * raman_detuning)\n",
    "print(raman_rabi_freq / (2 * np.pi) / 1e6)"
   ]
  },
  {
   "cell_type": "code",
   "execution_count": 22,
   "metadata": {},
   "outputs": [
    {
     "data": {
      "text/plain": [
       "['deuteron magn. moment to Bohr magneton ratio',\n",
       " 'electron magn. moment to Bohr magneton ratio',\n",
       " 'muon magn. moment to Bohr magneton ratio',\n",
       " 'neutron magn. moment to Bohr magneton ratio',\n",
       " 'proton magn. moment to Bohr magneton ratio',\n",
       " 'shielded helion magn. moment to Bohr magneton ratio',\n",
       " 'shielded proton magn. moment to Bohr magneton ratio',\n",
       " 'Bohr magneton',\n",
       " 'Bohr magneton in eV/T',\n",
       " 'Bohr magneton in Hz/T',\n",
       " 'Bohr magneton in inverse meters per tesla',\n",
       " 'Bohr magneton in K/T',\n",
       " 'Bohr radius',\n",
       " 'deuteron mag. mom. to Bohr magneton ratio',\n",
       " 'electron mag. mom. to Bohr magneton ratio',\n",
       " 'muon mag. mom. to Bohr magneton ratio',\n",
       " 'neutron mag. mom. to Bohr magneton ratio',\n",
       " 'proton mag. mom. to Bohr magneton ratio',\n",
       " 'shielded helion mag. mom. to Bohr magneton ratio',\n",
       " 'shielded proton mag. mom. to Bohr magneton ratio',\n",
       " 'triton mag. mom. to Bohr magneton ratio',\n",
       " 'helion mag. mom. to Bohr magneton ratio',\n",
       " 'Bohr magneton in inverse meter per tesla']"
      ]
     },
     "execution_count": 22,
     "metadata": {},
     "output_type": "execute_result"
    }
   ],
   "source": [
    "[key for key in constants.physical_constants.keys() if 'Bohr' in key]"
   ]
  },
  {
   "cell_type": "code",
   "execution_count": 33,
   "metadata": {},
   "outputs": [
    {
     "data": {
      "text/plain": [
       "325.0751932508856"
      ]
     },
     "execution_count": 33,
     "metadata": {},
     "output_type": "execute_result"
    }
   ],
   "source": [
    "from scipy import constants \n",
    "\n",
    "matrix_element = 0.58 * constants.e * constants.physical_constants['Bohr radius'][0]\n",
    "w0 = 500 * 1e-9\n",
    "factor = np.sqrt(4 / constants.epsilon_0 / constants.c / np.pi / w0**2)\n",
    "matrix_element * factor / constants.hbar / 2 / np.pi / 1e6 * np.sqrt(1e-6) "
   ]
  }
 ],
 "metadata": {
  "kernelspec": {
   "display_name": "quantum",
   "language": "python",
   "name": "python3"
  },
  "language_info": {
   "codemirror_mode": {
    "name": "ipython",
    "version": 3
   },
   "file_extension": ".py",
   "mimetype": "text/x-python",
   "name": "python",
   "nbconvert_exporter": "python",
   "pygments_lexer": "ipython3",
   "version": "3.11.8"
  },
  "orig_nbformat": 4
 },
 "nbformat": 4,
 "nbformat_minor": 2
}
