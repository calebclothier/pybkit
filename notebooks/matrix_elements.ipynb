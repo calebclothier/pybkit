{
 "cells": [
  {
   "cell_type": "code",
   "execution_count": 2,
   "metadata": {},
   "outputs": [],
   "source": [
    "from pybkit.amo.atom import Yb171\n",
    "\n",
    "from scipy import constants\n",
    "import numpy as np\n",
    "import pandas as pd\n",
    "import matplotlib.pyplot as plt\n",
    "from sympy.physics.wigner import wigner_6j\n",
    "from sympy.physics.quantum.cg import CG"
   ]
  },
  {
   "cell_type": "markdown",
   "metadata": {},
   "source": [
    "## Utility functions"
   ]
  },
  {
   "cell_type": "code",
   "execution_count": 3,
   "metadata": {},
   "outputs": [],
   "source": [
    "def mF_arr(F):\n",
    "    return [F - i for i in range(int(2*F + 1))]\n",
    "\n",
    "def matrix_element_prefactor(F1, mF1, F2, mF2, q):\n",
    "    return (-1)**(F2 - F1 + mF2 - mF1) * np.sqrt((2 * F1 + 1) / (2 * F2 + 1)) * CG(F1, mF1, 1, q, F2, mF2).doit()\n",
    "\n",
    "def J_to_F_rme_prefactor(J1, J2, F1, F2, I=1/2):\n",
    "    return float(wigner_6j(J1, J2, 1, F2, F1, I)) * (-1)**(F2 + J1 + 1 + I) * np.sqrt((2 * F2 + 1) * (2 * J1 + 1))"
   ]
  },
  {
   "cell_type": "markdown",
   "metadata": {},
   "source": [
    "## 6s6p 3P2 --> 6s6d 3D2 "
   ]
  },
  {
   "cell_type": "code",
   "execution_count": null,
   "metadata": {},
   "outputs": [],
   "source": [
    "yb = Yb171(B_field=5)\n",
    "level1 = yb.get_fine_level('6s6p 3P2')\n",
    "level2 = yb.get_fine_level('6s6d 3D2')\n",
    "yb.get_reduced_matrix_element(level1, level2)"
   ]
  },
  {
   "cell_type": "code",
   "execution_count": 7,
   "metadata": {},
   "outputs": [],
   "source": [
    "\"\"\" < J || d || J' > reduced matrix elements \"\"\"\n",
    "# estimate from 3D2 lifetime + branching ratio to 3P1, 3P2\n",
    "omega12 = 2 * np.pi * 654.927 * 1e12\n",
    "omega22 = 2 * np.pi * 603.411 * 1e12\n",
    "gamma = 1 / 24e-9\n",
    "prefactor = 3 * np.pi * constants.epsilon_0 * constants.hbar * constants.c**3\n",
    "dipole_moment_si = constants.physical_constants['Bohr radius'][0] * constants.e\n",
    "rme = np.sqrt(gamma * prefactor / (0.6 * omega12**3 + (0.447**2 * omega22**3)))\n",
    "J_rme12 = rme / dipole_moment_si # 3P1 -> 3D2 r.m.e\n",
    "J_rme22 = J_rme12 * 0.447  # 3P2 -> 3D2 r.m.e.\n",
    "# print(J_rme12)\n",
    "# print(J_rme22)\n",
    "J_rme_df = pd.DataFrame([\n",
    "    {'J1': 1, 'J2': 2, 'rme': J_rme12},\n",
    "    {'J1': 2, 'J2': 2, 'rme': J_rme22},\n",
    "])\n",
    "\n",
    "\"\"\" < F || d || F' > prefactors for reduced matrix elements \"\"\"\n",
    "J_rme = J_rme_df.loc[(J_rme_df['J1'] == 2) & (J_rme_df['J2'] == 2), 'rme'].iloc[0]\n",
    "F_rme_df = pd.DataFrame([\n",
    "    {'F1': 3/2, 'F2': 3/2, 'rme': J_to_F_rme_prefactor(2, 2, 3/2, 3/2) * J_rme},\n",
    "    {'F1': 3/2, 'F2': 5/2, 'rme': J_to_F_rme_prefactor(2, 2, 5/2, 3/2) * J_rme},\n",
    "    {'F1': 5/2, 'F2': 3/2, 'rme': J_to_F_rme_prefactor(2, 2, 3/2, 5/2) * J_rme},\n",
    "    {'F1': 5/2, 'F2': 5/2, 'rme': J_to_F_rme_prefactor(2, 2, 5/2, 5/2) * J_rme}\n",
    "])\n",
    "\n",
    "\"\"\" < F mF | d | F' mF' > prefactors for matrix elements \"\"\"\n",
    "Fs = [3/2, 5/2]\n",
    "matrix_elements = []\n",
    "for F1 in Fs:\n",
    "    for F2 in Fs:\n",
    "        for mF1 in mF_arr(F1):\n",
    "            for mF2 in mF_arr(F2):\n",
    "                for q in [-1, 0, 1]:\n",
    "                    coeff = float(matrix_element_prefactor(F1, mF1, F2, mF2, q))\n",
    "                    F_rme = F_rme_df.loc[(F_rme_df['F1'] == F1) & (F_rme_df['F2'] == F2), 'rme'].iloc[0]\n",
    "                    if coeff != 0:\n",
    "                        matrix_element = {\n",
    "                            'F1': F1,\n",
    "                            'F2': F2,\n",
    "                            'mF1': mF1,\n",
    "                            'mF2': mF2,\n",
    "                            'q': q,\n",
    "                            'coeff': coeff,\n",
    "                            'matrix element': F_rme * coeff}\n",
    "                        # print(F_rme * coeff)\n",
    "                        level1 = yb.get_hyperfine_level(f'6s6p 3P2 F={F1} mF={mF1}')\n",
    "                        level2 = yb.get_hyperfine_level(f'6s6d 3D2 F={F2} mF={mF2}')\n",
    "                        # print(yb.get_matrix_element(level1, level2))\n",
    "                        matrix_elements.append(matrix_element)\n",
    "                        \n",
    "df = pd.DataFrame(matrix_elements)\n",
    "# df"
   ]
  },
  {
   "cell_type": "markdown",
   "metadata": {},
   "source": [
    "## 6s6p 3P0 --> 6s7s 3S1 "
   ]
  },
  {
   "cell_type": "code",
   "execution_count": null,
   "metadata": {},
   "outputs": [],
   "source": [
    "\"\"\" < J || d || J' > reduced matrix element \"\"\"\n",
    "J_rme = 1.98  # atomic units, from Porsev et al. 1999\n",
    "\n",
    "\"\"\" < F || d || F' > prefactors for reduced matrix elements \"\"\"\n",
    "F_rme_df = pd.DataFrame([\n",
    "    {'F1': 1/2, 'F2': 1/2, 'rme': J_to_F_rme_prefactor(0, 1, 1/2, 1/2) * J_rme},\n",
    "    {'F1': 1/2, 'F2': 3/2, 'rme': J_to_F_rme_prefactor(0, 1, 1/2, 3/2) * J_rme},\n",
    "])\n",
    "\n",
    "\"\"\" < F mF | d | F' mF' > prefactors for matrix elements \"\"\"\n",
    "F1s = [1/2]\n",
    "F2s = [1/2, 3/2]\n",
    "matrix_elements = []\n",
    "for F1 in F1s:\n",
    "    for F2 in F2s:\n",
    "        for mF1 in mF_arr(F1):\n",
    "            for mF2 in mF_arr(F2):\n",
    "                for q in [-1, 0, 1]:\n",
    "                    coeff = float(matrix_element_prefactor(F1, mF1, F2, mF2, q))\n",
    "                    F_rme = F_rme_df.loc[(F_rme_df['F1'] == F1) & (F_rme_df['F2'] == F2), 'rme'].iloc[0]\n",
    "                    if coeff != 0:\n",
    "                        matrix_element = {\n",
    "                            'F1': F1,\n",
    "                            'F2': F2,\n",
    "                            'mF1': mF1,\n",
    "                            'mF2': mF2,\n",
    "                            'q': q,\n",
    "                            'coeff': coeff,\n",
    "                            'matrix element': F_rme * coeff}\n",
    "                        # print(F_rme * coeff)\n",
    "                        level1 = yb.get_hyperfine_level(f'6s6p 3P0 F={F1} mF={mF1}')\n",
    "                        level2 = yb.get_hyperfine_level(f'6s7s 3S1 F={F2} mF={mF2}')\n",
    "                        # print(yb.get_matrix_element(level1, level2))\n",
    "                        matrix_elements.append(matrix_element)\n",
    "                        \n",
    "df = pd.DataFrame(matrix_elements)\n",
    "df[df['q'] == 1]\n",
    "# df"
   ]
  },
  {
   "cell_type": "markdown",
   "metadata": {},
   "source": [
    "## 6s6p 3P2 --> 6s7s 3S1 "
   ]
  },
  {
   "cell_type": "code",
   "execution_count": null,
   "metadata": {},
   "outputs": [],
   "source": [
    "level1 = yb.get_fine_level('6s6p 3P2')\n",
    "level2 = yb.get_fine_level('6s7s 3S1')\n",
    "yb.get_reduced_matrix_element(level1, level2)\n",
    "5.05 / np.sqrt(2 * 2 + 1)"
   ]
  },
  {
   "cell_type": "code",
   "execution_count": null,
   "metadata": {},
   "outputs": [],
   "source": [
    "\"\"\" < J || d || J' > reduced matrix element \"\"\"\n",
    "J_rme = 5.05 / np.sqrt(2 * 2 + 1)  # atomic units, from Porsev et al. 1999\n",
    "\n",
    "\"\"\" < F || d || F' > prefactors for reduced matrix elements \"\"\"\n",
    "F_rme_df = pd.DataFrame([\n",
    "    {'F1': 3/2, 'F2': 1/2, 'rme': J_to_F_rme_prefactor(2, 1, 3/2, 1/2) * J_rme},\n",
    "    {'F1': 3/2, 'F2': 3/2, 'rme': J_to_F_rme_prefactor(2, 1, 3/2, 3/2) * J_rme},\n",
    "    {'F1': 5/2, 'F2': 1/2, 'rme': J_to_F_rme_prefactor(2, 1, 5/2, 1/2) * J_rme},\n",
    "    {'F1': 5/2, 'F2': 3/2, 'rme': J_to_F_rme_prefactor(2, 1, 5/2, 3/2) * J_rme},\n",
    "])\n",
    "\n",
    "\"\"\" < F mF | d | F' mF' > prefactors for matrix elements \"\"\"\n",
    "F1s = [3/2, 5/2]\n",
    "F2s = [1/2, 3/2]\n",
    "matrix_elements = []\n",
    "for F1 in F1s:\n",
    "    for F2 in F2s:\n",
    "        for mF1 in mF_arr(F1):\n",
    "            for mF2 in mF_arr(F2):\n",
    "                for q in [-1, 0, 1]:\n",
    "                    coeff = float(matrix_element_prefactor(F1, mF1, F2, mF2, q))\n",
    "                    F_rme = F_rme_df.loc[(F_rme_df['F1'] == F1) & (F_rme_df['F2'] == F2), 'rme'].iloc[0]\n",
    "                    if coeff != 0:\n",
    "                        matrix_element = {\n",
    "                            'F1': F1,\n",
    "                            'F2': F2,\n",
    "                            'mF1': mF1,\n",
    "                            'mF2': mF2,\n",
    "                            'q': q,\n",
    "                            'coeff': coeff,\n",
    "                            'matrix element': F_rme * coeff}\n",
    "                        # print(F_rme * coeff)\n",
    "                        level1 = yb.get_hyperfine_level(f'6s6p 3P2 F={F1} mF={mF1}')\n",
    "                        level2 = yb.get_hyperfine_level(f'6s7s 3S1 F={F2} mF={mF2}')\n",
    "                        # print(yb.get_matrix_element(level1, level2))\n",
    "                        matrix_elements.append(matrix_element)\n",
    "                        \n",
    "df = pd.DataFrame(matrix_elements)\n",
    "df[df['q'] == -1]"
   ]
  },
  {
   "cell_type": "code",
   "execution_count": null,
   "metadata": {},
   "outputs": [],
   "source": [
    "1.749 / 2.258"
   ]
  },
  {
   "cell_type": "code",
   "execution_count": null,
   "metadata": {},
   "outputs": [],
   "source": [
    "np.sqrt(3/5)"
   ]
  },
  {
   "cell_type": "code",
   "execution_count": null,
   "metadata": {},
   "outputs": [],
   "source": []
  },
  {
   "cell_type": "code",
   "execution_count": null,
   "metadata": {},
   "outputs": [],
   "source": [
    "def calculate_E_field(power, beam_waist):\n",
    "    intensity = 2 * power / (np.pi * beam_waist**2)\n",
    "    E_field = np.sqrt(2 * intensity / (constants.c * constants.epsilon_0))\n",
    "    return E_field\n",
    "\n",
    "def calculate_rabi_frequency(dipole_matrix_element, E_field):\n",
    "    return np.abs(dipole_matrix_element * E_field / constants.hbar)"
   ]
  },
  {
   "cell_type": "code",
   "execution_count": null,
   "metadata": {},
   "outputs": [],
   "source": [
    "yb = Yb171(B_field=5e-4)\n",
    "dipole_moment_si = constants.physical_constants['Bohr radius'][0] * constants.e\n",
    "dipole_matrix_element = yb.get_reduced_matrix_element('6s6p 3P2', '6s6d 3D2') * dipole_moment_si\n",
    "print(f\"{dipole_matrix_element = }\")"
   ]
  },
  {
   "cell_type": "code",
   "execution_count": null,
   "metadata": {},
   "outputs": [],
   "source": [
    "power = 1e-3  # laser power [watts]\n",
    "beam_waist = 500e-9  # beam waist [meters]\n",
    "\n",
    "E_field = calculate_E_field(power, beam_waist)\n",
    "rabi_freq = calculate_rabi_frequency(dipole_matrix_element, E_field)\n",
    "print(1e-6 * rabi_freq / (2 * np.pi))"
   ]
  },
  {
   "cell_type": "code",
   "execution_count": null,
   "metadata": {},
   "outputs": [],
   "source": [
    "power_649 = 100e-3  # laser power [watts]\n",
    "beam_waist_649 = 500e-6  # beam waist [meters]\n",
    "dipole_moment_si = constants.physical_constants['Bohr radius'][0] * constants.e\n",
    "dipole_matrix_element_649 = 1.143154 * dipole_moment_si\n",
    "E_field_649 = calculate_E_field(power_649, beam_waist_649)\n",
    "rabi_freq_649 = calculate_rabi_frequency(dipole_matrix_element_649, E_field_649)\n",
    "print(dipole_matrix_element_649 * np.sqrt(4 * 1e-3 / (np.pi * beam_waist_649**2 * constants.c * constants.epsilon_0)) / constants.hbar / 2 / np.pi / 1e6)\n",
    "\n",
    "power_770 = 100e-3  # laser power [watts]\n",
    "beam_waist_770 = 500e-6  # beam waist [meters]\n",
    "dipole_moment_si = constants.physical_constants['Bohr radius'][0] * constants.e\n",
    "dipole_matrix_element_770 = 2.258429 * dipole_moment_si\n",
    "E_field_770 = calculate_E_field(power_770, beam_waist_770)\n",
    "rabi_freq_770 = calculate_rabi_frequency(dipole_matrix_element_770, E_field_770)\n",
    "print(dipole_matrix_element_770 * np.sqrt(4 * 1e-3 / (np.pi * beam_waist_770**2 * constants.c * constants.epsilon_0)) / constants.hbar / 2 / np.pi / 1e6)\n",
    "\n",
    "\n",
    "print(rabi_freq_649 / (2 * np.pi) / 1e6)\n",
    "print(rabi_freq_770 / (2 * np.pi) / 1e6)\n",
    "\n",
    "raman_detuning = 2 * np.pi * 50e9\n",
    "\n",
    "print((rabi_freq_649 / raman_detuning)**2)\n",
    "print((rabi_freq_770 / raman_detuning)**2)\n",
    "\n",
    "raman_rabi_freq = rabi_freq_649 * rabi_freq_770 / (2 * raman_detuning)\n",
    "print(raman_rabi_freq / (2 * np.pi) / 1e6)"
   ]
  },
  {
   "cell_type": "code",
   "execution_count": null,
   "metadata": {},
   "outputs": [],
   "source": [
    "[key for key in constants.physical_constants.keys() if 'Bohr' in key]"
   ]
  },
  {
   "cell_type": "code",
   "execution_count": null,
   "metadata": {},
   "outputs": [],
   "source": [
    "from scipy import constants \n",
    "\n",
    "matrix_element = 0.58 * constants.e * constants.physical_constants['Bohr radius'][0]\n",
    "w0 = 500 * 1e-9\n",
    "factor = np.sqrt(4 / constants.epsilon_0 / constants.c / np.pi / w0**2)\n",
    "matrix_element * factor / constants.hbar / 2 / np.pi / 1e6 * np.sqrt(1e-6) "
   ]
  }
 ],
 "metadata": {
  "kernelspec": {
   "display_name": "quantum",
   "language": "python",
   "name": "python3"
  },
  "language_info": {
   "codemirror_mode": {
    "name": "ipython",
    "version": 3
   },
   "file_extension": ".py",
   "mimetype": "text/x-python",
   "name": "python",
   "nbconvert_exporter": "python",
   "pygments_lexer": "ipython3",
   "version": "3.11.8"
  },
  "orig_nbformat": 4
 },
 "nbformat": 4,
 "nbformat_minor": 2
}
