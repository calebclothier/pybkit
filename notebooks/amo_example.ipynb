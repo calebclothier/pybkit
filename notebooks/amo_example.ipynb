{
 "cells": [
  {
   "cell_type": "code",
   "execution_count": 1,
   "metadata": {},
   "outputs": [],
   "source": [
    "%load_ext autoreload \n",
    "%autoreload 2\n",
    "\n",
    "%matplotlib widget\n",
    "\n",
    "import numpy as np \n",
    "import matplotlib.pyplot as plt\n",
    "from scipy import constants\n",
    "\n",
    "from pybkit.amo.atom import Yb171, EnergyLevel, EnergyTransition"
   ]
  },
  {
   "cell_type": "code",
   "execution_count": null,
   "metadata": {},
   "outputs": [],
   "source": [
    "yb = Yb171(B_field=5e-4)\n",
    "\n",
    "print(yb.get_fine_level('6s^{2} 1S0').calculate_zeeman_shift(F=0.5, mF=0.5, B_field=5e-4))\n",
    "print(yb.get_transition('6s6p 3P2 F=1.5 mF=0.5', '6s7s 3S1 F=0.5 mF=0.5').frequency_Hz / 1e12)\n",
    "print(yb.get_transition('6s6p 3P2', '6s6d 3D2').wavelength_m*1e9)\n",
    "print(yb.get_reduced_matrix_element('6s6p 3P2', '6s6d 3D2', include_source=True))\n",
    "print(yb._reduced_matrix_elements)\n",
    "print(yb.calculate_polarizability('6s^{2} 1S0 F=0.5 mF=0.5', wavelength=486, vector_coeff=0))"
   ]
  },
  {
   "cell_type": "code",
   "execution_count": null,
   "metadata": {},
   "outputs": [],
   "source": [
    "transition = EnergyTransition(\n",
    "    yb.get_hyperfine_level('6s7s 3S1 F=0.5 mF=0.5'), \n",
    "    # yb.get_hyperfine_level('6s6p 3P0 F=0.5 mF=-0.5'), \n",
    "    yb.get_hyperfine_level('6s7s 3S1 F=1.5 mF=0.5'), \n",
    "    detuning_Hz=0)\n",
    "transition.frequency_Hz / 1e9"
   ]
  },
  {
   "cell_type": "code",
   "execution_count": null,
   "metadata": {},
   "outputs": [],
   "source": [
    "transition = EnergyTransition(\n",
    "    yb.get_hyperfine_level('6s6p 3P2 F=1.5 mF=0.5'), \n",
    "    # yb.get_hyperfine_level('6s6p 3P0 F=0.5 mF=-0.5'), \n",
    "    yb.get_hyperfine_level('6s6p 3P2 F=2.5 mF=0.5'), \n",
    "    detuning_Hz=0)\n",
    "transition.frequency_Hz / 1e9"
   ]
  },
  {
   "cell_type": "code",
   "execution_count": null,
   "metadata": {},
   "outputs": [],
   "source": [
    "transition = EnergyTransition(\n",
    "    yb.get_hyperfine_level('6s6p 3P0 F=0.5 mF=0.5'), \n",
    "    # yb.get_hyperfine_level('6s6p 3P0 F=0.5 mF=-0.5'), \n",
    "    yb.get_hyperfine_level('6s6p 3P2 F=2.5 mF=-2.5'), \n",
    "    detuning_Hz=0)\n",
    "transition.frequency_Hz / 1e12"
   ]
  },
  {
   "cell_type": "code",
   "execution_count": null,
   "metadata": {},
   "outputs": [],
   "source": [
    "((1/0.75)/(8.8))**2"
   ]
  },
  {
   "cell_type": "code",
   "execution_count": null,
   "metadata": {},
   "outputs": [],
   "source": [
    "transition = EnergyTransition(\n",
    "    yb.get_hyperfine_level('6s6p 3P2 F=2.5 mF=0.5'), \n",
    "    yb.get_hyperfine_level('6s6p 3P2 F=2.5 mF=-0.5'), \n",
    "    detuning_Hz=0)\n",
    "transition.frequency_Hz / 1e6\n"
   ]
  },
  {
   "cell_type": "code",
   "execution_count": null,
   "metadata": {},
   "outputs": [],
   "source": [
    "transition = EnergyTransition(yb.get_hyperfine_level('6s6p 3P2 F=1.5 mF=1.5'), yb.get_hyperfine_level('6s6p 3P2 F=2.5 mF=1.5'), detuning_Hz=0)\n",
    "df_3P2 = transition.frequency_Hz / 1e6\n",
    "print(df_3P2)\n",
    "\n",
    "transition = EnergyTransition(yb.get_hyperfine_level('6s6d 3D2 F=1.5 mF=1.5'), yb.get_hyperfine_level('6s6d 3D2 F=2.5 mF=1.5'), detuning_Hz=0)\n",
    "df_3D2 = transition.frequency_Hz / 1e6\n",
    "print(df_3D2)\n",
    "\n",
    "print(df_3P2 - df_3D2)"
   ]
  },
  {
   "cell_type": "markdown",
   "metadata": {},
   "source": [
    "## Level structure"
   ]
  },
  {
   "cell_type": "code",
   "execution_count": null,
   "metadata": {},
   "outputs": [],
   "source": [
    "# yb.get_transition_energy('6s6p 3P0', '6s6p 3P1')\n",
    "yb.get_nearby_transitions(wavelength=4.968404653962382e-7, max_detuning=20e9, level='6s6p 3P2 F=1.5 mF=0.5', hyperfine=True)\n",
    "yb.get_nearby_transitions(wavelength=1540e-9, max_detuning=1e12, hyperfine=False)"
   ]
  },
  {
   "cell_type": "code",
   "execution_count": null,
   "metadata": {},
   "outputs": [],
   "source": [
    "transitions = [\n",
    "    EnergyTransition(yb.get_fine_level('6s^{2} 1S0'), yb.get_fine_level('6s6p 3P1'), detuning_Hz=0), # initialization\n",
    "    EnergyTransition(yb.get_fine_level('6s^{2} 1S0'), yb.get_fine_level('6s6p 1P1'), detuning_Hz=0), # readout \n",
    "    EnergyTransition(yb.get_fine_level('6s7s 3S1'), yb.get_fine_level('6s6p 3P2'), detuning_Hz=0),\n",
    "    EnergyTransition(yb.get_fine_level('6s6p 3P0'), yb.get_fine_level('6s7s 3S1'), detuning_Hz=0),\n",
    "    EnergyTransition(yb.get_fine_level('6s6p 3P2'), yb.get_fine_level('6s6d 3D1'), detuning_Hz=0), # local addressing\n",
    "    yb.get_nearby_transitions(wavelength=1540e-9, max_detuning=1e12, hyperfine=False)[0]\n",
    "]\n",
    "\n",
    "fig, ax = yb.plot_fine_structure(transitions=transitions, term_symbols_only=True, unit='Hz')\n",
    "ax.hlines(616e12, xmin=0, xmax=1)\n",
    "ax.hlines(2*616e12, xmin=0, xmax=1)"
   ]
  },
  {
   "cell_type": "code",
   "execution_count": null,
   "metadata": {},
   "outputs": [],
   "source": [
    "transitions = []\n",
    "# transitions = [\n",
    "#     EnergyTransition(yb.get_hyperfine_level('6s^{2} 1S0 F=0.5 mF=-0.5'), yb.get_hyperfine_level('6s6p 3P1 F=1.5 mF=0.5'), detuning_Hz=0),\n",
    "#     EnergyTransition(yb.get_hyperfine_level('6s^{2} 1S0 F=0.5 mF=0.5'), yb.get_hyperfine_level('6s6p 3P1 F=1.5 mF=1.5'), detuning_Hz=0),\n",
    "#     EnergyTransition(yb.get_hyperfine_level('6s6p 3P0 F=0.5 mF=-0.5'), yb.get_hyperfine_level('6s7s 3S1 F=0.5 mF=0.5'), detuning_Hz=0),\n",
    "#     EnergyTransition(yb.get_hyperfine_level('6s6p 3P1 F=1.5 mF=1.5'), yb.get_hyperfine_level('5d6s 3D1 F=1.5 mF=1.5'), detuning_Hz=0),\n",
    "# ]\n",
    "# for hfl1 in yb.get_fine_level('6s6p 3P2').get_hyperfine_levels(B_field=5e-4):\n",
    "#     for hfl2 in yb.get_fine_level('6s7s 3S1').get_hyperfine_levels(B_field=5e-4):\n",
    "#         mF1 = hfl1.mF\n",
    "#         mF2 = hfl2.mF\n",
    "#         if mF2 in [mF1-1, mF1, mF1+1]:\n",
    "#             transitions.append(EnergyTransition(hfl1, hfl2))\n",
    "\n",
    "fig, ax = yb.plot_hyperfine_structure(transitions=transitions, term_symbols_only=True, label=True, unit='MHz')\n",
    "# ax.set_ylim(-10, 1100)"
   ]
  },
  {
   "cell_type": "markdown",
   "metadata": {},
   "source": [
    "## Magic wavelengths"
   ]
  },
  {
   "cell_type": "code",
   "execution_count": 25,
   "metadata": {},
   "outputs": [],
   "source": [
    "wls = np.linspace(400, 1600, 1000) * 1e-9\n",
    "\n",
    "# conversion from a.u. to SI\n",
    "a0 = constants.physical_constants['Bohr radius'][0]\n",
    "pol_atomic_SI = 4 * np.pi * constants.epsilon_0 * a0**3\n",
    "factor = -1 / (2 * constants.epsilon_0 * constants.c) * pol_atomic_SI / constants.Planck\n",
    "factor *= (1e2)**2 # convert from 1/m^2 to 1/cm^2 \n",
    "\n",
    "pol_1S0 = factor * yb.calculate_polarizability('6s^{2} 1S0 F=0.5 mF=0.5', wavelength=wls, vector_coeff=0)\n",
    "pol_3P0 = factor * yb.calculate_polarizability('6s6p 3P0 F=0.5 mF=0.5', wavelength=wls, vector_coeff=0)\n",
    "pol_3P1 = factor * yb.calculate_polarizability('6s6p 3P1 F=1.5 mF=0.5', wavelength=wls, vector_coeff=0)\n",
    "pol_3P2 = factor * yb.calculate_polarizability('6s6p 3P2 F=2.5 mF=0.5', wavelength=wls, vector_coeff=0)\n",
    "# pol_1P1 = factor * yb.calculate_polarizability('6s6p 1P1 F=1.5 mF=0.5', wavelength=wls, vector_coeff=0)"
   ]
  },
  {
   "cell_type": "code",
   "execution_count": null,
   "metadata": {},
   "outputs": [],
   "source": [
    "plt.figure(figsize=(10,5))\n",
    "\n",
    "plt.plot(wls*1e9, pol_1S0, 'o-', ms=3, alpha=1, label='1S0 F=1/2 mF=1/2')\n",
    "plt.plot(wls*1e9, pol_3P0, 'o-', ms=3, alpha=1, label='3P0 F=1/2 mF=1/2')\n",
    "plt.plot(wls*1e9, pol_3P1, 'o-', ms=3, alpha=1, label='3P1 F=3/2 mF=1/2')\n",
    "# plt.plot(wls*1e9, -pol_3P2, 'o', ms=3, alpha=1, label='3P2')\n",
    "# plt.plot(wls*1e9, pol_1P1, 'o', ms=3, alpha=1, label='1P1')\n",
    "\n",
    "plt.errorbar(x=486.78, y=-16.3, marker='o', mfc='w', color='C4')\n",
    "plt.axvline(x=486.78,ls='--',color='C4')\n",
    "plt.axhline(y=-16.3,ls='--',color='C4', label='486nm magic')\n",
    "\n",
    "\n",
    "plt.axvline(x=760,ls='--',color='C3')\n",
    "plt.axhline(y=-8.8,ls='--',color='C3', label='759nm magic')\n",
    "plt.errorbar([759.3],[-8.8],[1.4],color='C3',marker='o',mfc='w',label='[Hohn2023]')\n",
    "\n",
    "plt.ylabel('$V_{ac}/I$ [h $\\cdot$ Hz W$^{-1}$ cm$^2$]')\n",
    "# plt.ylim(-40,20)\n",
    "# plt.ylim(-500,500)\n",
    "plt.ylim(-60, 0)\n",
    "plt.xlim(400, 1600)\n",
    "\n",
    "plt.xlabel('wavelength [nm]')\n",
    "plt.grid()\n",
    "plt.legend()"
   ]
  },
  {
   "cell_type": "markdown",
   "metadata": {},
   "source": [
    "## Scattering rates"
   ]
  },
  {
   "cell_type": "code",
   "execution_count": 27,
   "metadata": {},
   "outputs": [],
   "source": [
    "wls = np.linspace(400, 1600, 1000) * 1e-9\n",
    "\n",
    "# convert from a.u. to SI\n",
    "a0 = constants.physical_constants['Bohr radius'][0]\n",
    "pol_atomic_SI = 4 * np.pi * constants.epsilon_0 * a0**3\n",
    "factor = (1/(constants.Planck/2/np.pi)/constants.epsilon_0/constants.c*pol_atomic_SI*10000)\n",
    "\n",
    "scatter_1S0 = factor * yb.calculate_scattering_rate('6s^{2} 1S0 F=0.5 mF=0.5', wavelength=wls, vector_coeff=0)\n",
    "scatter_3P0 = factor * yb.calculate_scattering_rate('6s6p 3P0 F=0.5 mF=0.5', wavelength=wls, vector_coeff=0)\n",
    "scatter_3P1 = factor * yb.calculate_scattering_rate('6s6p 3P1 F=1.5 mF=0.5', wavelength=wls, vector_coeff=0)"
   ]
  },
  {
   "cell_type": "code",
   "execution_count": null,
   "metadata": {},
   "outputs": [],
   "source": [
    "plt.figure(figsize=(10,5))\n",
    "\n",
    "plt.plot(wls*1e9, scatter_1S0, ls='-', marker='.', alpha=1, label='1S0')\n",
    "plt.plot(wls*1e9, scatter_3P0, ls='-', marker='.', alpha=1, label='3P0')\n",
    "plt.plot(wls*1e9, scatter_3P1, ls='-', marker='.', alpha=1, label='3P1')\n",
    "plt.errorbar([759.3],[2/(8.7e6/8.8)],[0.4/(8.7e6/8.8)], marker='o',mfc='w',label='[Lis2023]')\n",
    "plt.errorbar([488],[1/2.9/(0.76e-3/np.pi/(0.5e-6*100)**2*2)],[0], marker='o',mfc='w',label='[Ma2023], 0.76 mW, overestimate')\n",
    "plt.errorbar([488],[200/(1/(np.pi*(0.5e-6*1e2)**2))],[0], marker='o',mfc='cornflowerblue',label='[Ma2023], fitted 0.2')\n",
    "plt.errorbar([532],[280/(1/(np.pi*(0.5e-6*1e2)**2))],[0], marker='o',mfc='w',label='our 532')\n",
    "plt.yscale('log')\n",
    "plt.ylabel('3P0 $\\Gamma$ [s$^{-1}$ W$^{-1}$ cm$^2$]')\n",
    "plt.xlabel('wavelength [nm]')\n",
    "\n",
    "ymin, ymax = plt.ylim()\n",
    "plt.vlines(1532, ymin, ymax)\n",
    "\n",
    "plt.grid()\n",
    "plt.legend()"
   ]
  }
 ],
 "metadata": {
  "kernelspec": {
   "display_name": ".venv",
   "language": "python",
   "name": "python3"
  },
  "language_info": {
   "codemirror_mode": {
    "name": "ipython",
    "version": 3
   },
   "file_extension": ".py",
   "mimetype": "text/x-python",
   "name": "python",
   "nbconvert_exporter": "python",
   "pygments_lexer": "ipython3",
   "version": "3.11.10"
  },
  "orig_nbformat": 4
 },
 "nbformat": 4,
 "nbformat_minor": 2
}
