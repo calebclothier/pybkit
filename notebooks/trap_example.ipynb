{
 "cells": [
  {
   "cell_type": "code",
   "execution_count": 1,
   "metadata": {},
   "outputs": [],
   "source": [
    "%load_ext autoreload \n",
    "%autoreload 2\n",
    "\n",
    "%matplotlib widget\n",
    "\n",
    "import numpy as np\n",
    "\n",
    "from pybkit.trap.tweezers import *\n",
    "from pybkit.trap.generator import *\n",
    "from pybkit.amo.laser import *\n",
    "from pybkit.amo.atom import *"
   ]
  },
  {
   "cell_type": "markdown",
   "metadata": {},
   "source": [
    "## Generation (SLM + AOD)"
   ]
  },
  {
   "cell_type": "code",
   "execution_count": null,
   "metadata": {},
   "outputs": [],
   "source": [
    "%matplotlib widget\n",
    "\n",
    "tweezer_laser = GaussianLaser(wavelength=486e-9, linewidth=1e6, power=1e-3, w0=0.5e-6)\n",
    "\n",
    "spacing = 0.735\n",
    "row_freqs = np.arange(75, 75 + 3*spacing, spacing)\n",
    "col_freqs = np.arange(75, 75 + 3*spacing, spacing)\n",
    "# f_row = [70, 71, 72,  76, 77, 78]\n",
    "# f_col = [70, 71, 72,  76, 77, 78]\n",
    "# row_freqs = np.array(f_row).flatten().tolist()\n",
    "# col_freqs = np.array(f_col).flatten().tolist()\n",
    "aod = AODDevice(laser=tweezer_laser)\n",
    "aod_tweezers = aod.generate_tweezers(row_freqs, col_freqs, spacing)\n",
    "\n",
    "\n",
    "# positions = [[1,1,0], [2,2,0], [3,3,0], [4,4,0]] \n",
    "# slm = SLMDevice(laser=tweezer_laser)\n",
    "# slm_tweezers = slm.generate_tweezers(positions)\n",
    "\n",
    "# slm_tweezers.plot()\n",
    "# aod.plot_tweezers_intermodulation(dac_amp=1, weighted=True, decay_distance=8, offset_dB=25, min_dB=-43)\n",
    "aod.plot_tweezers_phonon_dispersion()\n",
    "# plt.xlim(65, 95)\n",
    "# plt.ylim(65, 95)"
   ]
  },
  {
   "cell_type": "markdown",
   "metadata": {},
   "source": [
    "## Atom Movement"
   ]
  },
  {
   "cell_type": "code",
   "execution_count": null,
   "metadata": {},
   "outputs": [],
   "source": [
    "from pybkit.trap.movement import TweezerMove\n",
    "from pybkit.trap.trajectory import *\n",
    "\n",
    "laser = GaussianLaser(\n",
    "    wavelength=486e-9,\n",
    "    linewidth=1e6,\n",
    "    power=5e-3,\n",
    "    w0=500e-9)\n",
    "position = [0,0,0]\n",
    "tweezer = Tweezer(position, laser)\n",
    "\n",
    "move_dx = 50e-6\n",
    "move_dt = 400e-6\n",
    "dxdt2z = 0.025/4/650\n",
    "trj_func = arb_fifth_poly\n",
    "trj_kwargs = {'beta': 1.5625}# 1.5625\n",
    "txyz = np.array([[0,0,0,0], \n",
    "                 [move_dt,move_dx,0,0]])\n",
    "atom = Yb171(B_field=5e-4)\n",
    "level = atom.get_hyperfine_level('6s6p 3P0 F=0.5 mF=0.5')\n",
    "\n",
    "move = TweezerMove(tweezer, atom, level, txyz, dxdt2z, trj_func, **trj_kwargs)\n",
    "\n",
    "# move.traj.plot_position()\n",
    "# move.plot_potential_along_trajectory()\n",
    "t = np.linspace(txyz[0,0], txyz[-1,0], int(1e3))\n",
    "Ei, Ef = move.simulate_ensemble_dynamics(t, T=10e-6, num_samples=200, num_bins=50)"
   ]
  },
  {
   "cell_type": "code",
   "execution_count": null,
   "metadata": {},
   "outputs": [],
   "source": [
    "laser = GaussianLaser(\n",
    "    wavelength=486e-9,\n",
    "    linewidth=1e6,\n",
    "    power=5e-3,\n",
    "    w0=500e-9)\n",
    "position = [0,0,0]\n",
    "tweezer = Tweezer(position, laser)\n",
    "\n",
    "move_dx = 50e-6\n",
    "move_dt = 200e-6\n",
    "dxdt2z = 0.025/4/650\n",
    "trj_func = arb_fifth_poly\n",
    "trj_kwargs = {'beta': 1.5625}# 1.5625\n",
    "txyz = np.array([[0,0,0,0], \n",
    "                 [move_dt,move_dx,0,0]])\n",
    "atom = Yb171(B_field=5e-4)\n",
    "level = atom.get_hyperfine_level('6s6p 3P0 F=0.5 mF=0.5')\n",
    "\n",
    "move = TweezerMove(tweezer, atom, level, txyz, dxdt2z, trj_func, **trj_kwargs)\n",
    "\n",
    "# move.traj.plot_position()\n",
    "# move.plot_potential_along_trajectory()\n",
    "t = np.linspace(txyz[0,0], txyz[-1,0], int(1e3))\n",
    "Ei, Ef = move.simulate_ensemble_dynamics(t, T=10e-6, num_samples=200, num_bins=50)"
   ]
  },
  {
   "cell_type": "markdown",
   "metadata": {},
   "source": [
    "### Sweep move times"
   ]
  },
  {
   "cell_type": "code",
   "execution_count": null,
   "metadata": {},
   "outputs": [],
   "source": [
    "move_dx = 50e-6\n",
    "move_dts = np.linspace(130, 205, 50) * 1e-6\n",
    "dxdt2z = 0.025/4/650\n",
    "trj_func = arb_fifth_poly\n",
    "trj_kwargs = {'beta': 1.5625}\n",
    "atom = Yb171(B_field=5e-4)\n",
    "level = atom.get_hyperfine_level('6s6p 3P0 F=0.5 mF=0.5')\n",
    "\n",
    "t = np.linspace(txyz[0,0], txyz[-1,0], int(1e3))\n",
    "\n",
    "survival_rates = []\n",
    "for move_dt in move_dts:\n",
    "    print(move_dt*1e6)\n",
    "    txyz = np.array([[0,0,0,0], \n",
    "                 [move_dt,move_dx,0,0]])\n",
    "    move = TweezerMove(tweezer, atom, level, txyz, dxdt2z, trj_func, **trj_kwargs)\n",
    "    Ei, Ef = move.simulate_ensemble_dynamics(t, T=10e-6, num_samples=200, plot=False)\n",
    "    survival_rate = 1 - (np.sum(Ef >= 0) / Ef.shape[0])\n",
    "    survival_rates.append(survival_rate)"
   ]
  },
  {
   "cell_type": "code",
   "execution_count": null,
   "metadata": {},
   "outputs": [],
   "source": [
    "plt.figure()\n",
    "plt.plot(move_dts * 1e6, np.array(survival_rates), 'o-')\n",
    "plt.xlabel('Move time [us]')"
   ]
  },
  {
   "cell_type": "code",
   "execution_count": null,
   "metadata": {},
   "outputs": [],
   "source": [
    "# move.traj.plot_position()\n",
    "# move.traj.plot_velocity()\n",
    "move.plot_potential_along_trajectory()"
   ]
  },
  {
   "cell_type": "code",
   "execution_count": null,
   "metadata": {},
   "outputs": [],
   "source": [
    "t = np.linspace(txyz[0,0], txyz[-1,0] + 20e-6, int(1e4))\n",
    "p0, v0 = move.sample_maxwell_boltzmann(num_samples=1, T=10e-6, avg_position=[0,0,0])\n",
    "\n",
    "position, velocity = move.simulate_atom_dynamics(t, p0[0,:], v0[0,:], plot=True)"
   ]
  },
  {
   "cell_type": "code",
   "execution_count": null,
   "metadata": {},
   "outputs": [],
   "source": [
    "move.tweezer.radial_trap_frequency(move.atom, move.level) / 1e3 / (2*np.pi)"
   ]
  },
  {
   "cell_type": "code",
   "execution_count": null,
   "metadata": {},
   "outputs": [],
   "source": [
    "import matplotlib.pyplot as plt\n",
    "plt.figure(dpi=1200)\n",
    "plt.plot(1,1)\n",
    "plt.xlabel('Light shift [MHz]')"
   ]
  }
 ],
 "metadata": {
  "kernelspec": {
   "display_name": "quantum",
   "language": "python",
   "name": "python3"
  },
  "language_info": {
   "codemirror_mode": {
    "name": "ipython",
    "version": 3
   },
   "file_extension": ".py",
   "mimetype": "text/x-python",
   "name": "python",
   "nbconvert_exporter": "python",
   "pygments_lexer": "ipython3",
   "version": "3.11.8"
  },
  "orig_nbformat": 4
 },
 "nbformat": 4,
 "nbformat_minor": 2
}
